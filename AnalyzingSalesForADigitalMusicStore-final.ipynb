{
 "cells": [
  {
   "cell_type": "markdown",
   "metadata": {},
   "source": [
    "# Finding Growth Opportunities for a Digital Music Store\n",
    "\n",
    "## Introduction\n",
    "\n",
    "This project explores sales growth opportunities for a fictional digital music shop. \n",
    "\n",
    "To conduct this analysis I used: \n",
    "\n",
    "* __SQL__ to perform data wrangling by using subqueries, multiple joins, aggregate functions and windows functions.\n",
    "* __Matplotlib__ to create compelling visualisations.\n",
    "* __Pandas__ to check the dataset for missing values and duplicates.\n",
    "\n",
    "\n",
    "## Scenario\n",
    "\n",
    "The Chinook Record Store is Canadian company based in Calgary which sells digital music, similar to the iTunes store. As a digital music store they sell to customers from around the world. The new manager is looking to adopt data-driven methods into their business strategy and has hired you to analyse their database and make some recommendations. They have the budget to acquire more music for the store and launch a marketing campaign in selected countries. You have been asked to investigate the following:\n",
    "\n",
    "* What are the types of best-selling music \n",
    "* Which countries show the highest sales growth.\n",
    "\n",
    "### <font color='grey'>Summary</font> \n",
    "\n",
    "* The USA is the top country for sales at the music store with Rock being the best-selling genre for this customer group. \n",
    "    * Adding more Rock music to the store is likely to be popular amongst these customers and drive sales.\n",
    "<br>\n",
    "<br>\n",
    "* Customer spending in the Czech Republic, Germany, United Kingdom, India and USA is above average. \n",
    "    * Of these countries, the Czech Republic and Germany should be considered first for the marketing campaign. \n",
    "    * As sales in the most recent year decreased in the United Kingdom, India and USA the cause of this should be investigated and remedied.\n",
    "\n",
    "## Sourcing the Data\n",
    "\n",
    "The data used in this project comes from the Chinook database, a sample database available at [Github](https://github.com/lerocha/chinook-database)."
   ]
  },
  {
   "cell_type": "markdown",
   "metadata": {},
   "source": [
    "## Importing Libraries"
   ]
  },
  {
   "cell_type": "code",
   "execution_count": 1,
   "metadata": {},
   "outputs": [],
   "source": [
    "import sqlite3 as sql\n",
    "import pandas as pd\n",
    "import numpy as np\n",
    "import matplotlib.pyplot as plt"
   ]
  },
  {
   "cell_type": "code",
   "execution_count": 2,
   "metadata": {},
   "outputs": [],
   "source": [
    "%%capture\n",
    "%load_ext sql"
   ]
  },
  {
   "cell_type": "markdown",
   "metadata": {},
   "source": [
    "## Connecting to the Data"
   ]
  },
  {
   "cell_type": "code",
   "execution_count": 3,
   "metadata": {
    "scrolled": true
   },
   "outputs": [],
   "source": [
    "%sql sqlite:///chinook.db"
   ]
  },
  {
   "cell_type": "code",
   "execution_count": 4,
   "metadata": {},
   "outputs": [],
   "source": [
    "# create connection to sqlite 3\n",
    "database = 'chinook.db'\n",
    "con = sql.connect(database)"
   ]
  },
  {
   "cell_type": "markdown",
   "metadata": {},
   "source": [
    "## Schema\n",
    "\n",
    "<img src='https://s3.amazonaws.com/dq-content/189/chinook-schema.svg' height= '500' width='500'>"
   ]
  },
  {
   "cell_type": "markdown",
   "metadata": {},
   "source": [
    "## Overview of the Data"
   ]
  },
  {
   "cell_type": "code",
   "execution_count": 5,
   "metadata": {
    "scrolled": false
   },
   "outputs": [
    {
     "name": "stdout",
     "output_type": "stream",
     "text": [
      " * sqlite:///chinook.db\n",
      "Done.\n"
     ]
    },
    {
     "data": {
      "text/html": [
       "<table>\n",
       "    <thead>\n",
       "        <tr>\n",
       "            <th>name</th>\n",
       "            <th>type</th>\n",
       "        </tr>\n",
       "    </thead>\n",
       "    <tbody>\n",
       "        <tr>\n",
       "            <td>album</td>\n",
       "            <td>table</td>\n",
       "        </tr>\n",
       "        <tr>\n",
       "            <td>artist</td>\n",
       "            <td>table</td>\n",
       "        </tr>\n",
       "        <tr>\n",
       "            <td>customer</td>\n",
       "            <td>table</td>\n",
       "        </tr>\n",
       "        <tr>\n",
       "            <td>employee</td>\n",
       "            <td>table</td>\n",
       "        </tr>\n",
       "        <tr>\n",
       "            <td>genre</td>\n",
       "            <td>table</td>\n",
       "        </tr>\n",
       "        <tr>\n",
       "            <td>invoice</td>\n",
       "            <td>table</td>\n",
       "        </tr>\n",
       "        <tr>\n",
       "            <td>invoice_line</td>\n",
       "            <td>table</td>\n",
       "        </tr>\n",
       "        <tr>\n",
       "            <td>media_type</td>\n",
       "            <td>table</td>\n",
       "        </tr>\n",
       "        <tr>\n",
       "            <td>playlist</td>\n",
       "            <td>table</td>\n",
       "        </tr>\n",
       "        <tr>\n",
       "            <td>playlist_track</td>\n",
       "            <td>table</td>\n",
       "        </tr>\n",
       "        <tr>\n",
       "            <td>track</td>\n",
       "            <td>table</td>\n",
       "        </tr>\n",
       "        <tr>\n",
       "            <td>top_countries</td>\n",
       "            <td>view</td>\n",
       "        </tr>\n",
       "        <tr>\n",
       "            <td>top_countries_by_customer</td>\n",
       "            <td>view</td>\n",
       "        </tr>\n",
       "        <tr>\n",
       "            <td>sales</td>\n",
       "            <td>view</td>\n",
       "        </tr>\n",
       "    </tbody>\n",
       "</table>"
      ],
      "text/plain": [
       "[('album', 'table'),\n",
       " ('artist', 'table'),\n",
       " ('customer', 'table'),\n",
       " ('employee', 'table'),\n",
       " ('genre', 'table'),\n",
       " ('invoice', 'table'),\n",
       " ('invoice_line', 'table'),\n",
       " ('media_type', 'table'),\n",
       " ('playlist', 'table'),\n",
       " ('playlist_track', 'table'),\n",
       " ('track', 'table'),\n",
       " ('top_countries', 'view'),\n",
       " ('top_countries_by_customer', 'view'),\n",
       " ('sales', 'view')]"
      ]
     },
     "execution_count": 5,
     "metadata": {},
     "output_type": "execute_result"
    }
   ],
   "source": [
    "%%sql\n",
    "SELECT  name,\n",
    "        type\n",
    "FROM sqlite_master\n",
    "WHERE type IN (\"table\",\"view\");"
   ]
  },
  {
   "cell_type": "markdown",
   "metadata": {},
   "source": [
    "* The Chinook database contains __11 tables__ with information about the artists, songs, and albums from the music shop, as well as information on the shop's employees, customers, and purchases."
   ]
  },
  {
   "cell_type": "markdown",
   "metadata": {},
   "source": [
    "## Loading the Data"
   ]
  },
  {
   "cell_type": "markdown",
   "metadata": {},
   "source": [
    "Lets begin by viewing a few of the tables to understand what data is available to work with for this analysis."
   ]
  },
  {
   "cell_type": "code",
   "execution_count": 6,
   "metadata": {
    "scrolled": false
   },
   "outputs": [
    {
     "name": "stdout",
     "output_type": "stream",
     "text": [
      " * sqlite:///chinook.db\n",
      "Done.\n"
     ]
    },
    {
     "data": {
      "text/html": [
       "<table>\n",
       "    <thead>\n",
       "        <tr>\n",
       "            <th>invoice_id</th>\n",
       "            <th>customer_id</th>\n",
       "            <th>invoice_date</th>\n",
       "            <th>billing_address</th>\n",
       "            <th>billing_city</th>\n",
       "            <th>billing_state</th>\n",
       "            <th>billing_country</th>\n",
       "            <th>billing_postal_code</th>\n",
       "            <th>total</th>\n",
       "        </tr>\n",
       "    </thead>\n",
       "    <tbody>\n",
       "        <tr>\n",
       "            <td>1</td>\n",
       "            <td>18</td>\n",
       "            <td>2017-01-03 00:00:00</td>\n",
       "            <td>627 Broadway</td>\n",
       "            <td>New York</td>\n",
       "            <td>NY</td>\n",
       "            <td>USA</td>\n",
       "            <td>10012-2612</td>\n",
       "            <td>15.84</td>\n",
       "        </tr>\n",
       "        <tr>\n",
       "            <td>2</td>\n",
       "            <td>30</td>\n",
       "            <td>2017-01-03 00:00:00</td>\n",
       "            <td>230 Elgin Street</td>\n",
       "            <td>Ottawa</td>\n",
       "            <td>ON</td>\n",
       "            <td>Canada</td>\n",
       "            <td>K2P 1L7</td>\n",
       "            <td>9.9</td>\n",
       "        </tr>\n",
       "    </tbody>\n",
       "</table>"
      ],
      "text/plain": [
       "[(1, 18, '2017-01-03 00:00:00', '627 Broadway', 'New York', 'NY', 'USA', '10012-2612', 15.84),\n",
       " (2, 30, '2017-01-03 00:00:00', '230 Elgin Street', 'Ottawa', 'ON', 'Canada', 'K2P 1L7', 9.9)]"
      ]
     },
     "execution_count": 6,
     "metadata": {},
     "output_type": "execute_result"
    }
   ],
   "source": [
    "%%sql\n",
    "SELECT *\n",
    "FROM invoice\n",
    "LIMIT 2"
   ]
  },
  {
   "cell_type": "code",
   "execution_count": 7,
   "metadata": {
    "scrolled": true
   },
   "outputs": [
    {
     "name": "stdout",
     "output_type": "stream",
     "text": [
      " * sqlite:///chinook.db\n",
      "Done.\n"
     ]
    },
    {
     "data": {
      "text/html": [
       "<table>\n",
       "    <thead>\n",
       "        <tr>\n",
       "            <th>invoice_line_id</th>\n",
       "            <th>invoice_id</th>\n",
       "            <th>track_id</th>\n",
       "            <th>unit_price</th>\n",
       "            <th>quantity</th>\n",
       "        </tr>\n",
       "    </thead>\n",
       "    <tbody>\n",
       "        <tr>\n",
       "            <td>1</td>\n",
       "            <td>1</td>\n",
       "            <td>1158</td>\n",
       "            <td>0.99</td>\n",
       "            <td>1</td>\n",
       "        </tr>\n",
       "        <tr>\n",
       "            <td>2</td>\n",
       "            <td>1</td>\n",
       "            <td>1159</td>\n",
       "            <td>0.99</td>\n",
       "            <td>1</td>\n",
       "        </tr>\n",
       "    </tbody>\n",
       "</table>"
      ],
      "text/plain": [
       "[(1, 1, 1158, 0.99, 1), (2, 1, 1159, 0.99, 1)]"
      ]
     },
     "execution_count": 7,
     "metadata": {},
     "output_type": "execute_result"
    }
   ],
   "source": [
    "%%sql\n",
    "SELECT *\n",
    "FROM invoice_line\n",
    "LIMIT 2"
   ]
  },
  {
   "cell_type": "code",
   "execution_count": 8,
   "metadata": {},
   "outputs": [
    {
     "name": "stdout",
     "output_type": "stream",
     "text": [
      " * sqlite:///chinook.db\n",
      "Done.\n"
     ]
    },
    {
     "data": {
      "text/html": [
       "<table>\n",
       "    <thead>\n",
       "        <tr>\n",
       "            <th>track_id</th>\n",
       "            <th>name</th>\n",
       "            <th>album_id</th>\n",
       "            <th>media_type_id</th>\n",
       "            <th>genre_id</th>\n",
       "            <th>composer</th>\n",
       "            <th>milliseconds</th>\n",
       "            <th>bytes</th>\n",
       "            <th>unit_price</th>\n",
       "        </tr>\n",
       "    </thead>\n",
       "    <tbody>\n",
       "        <tr>\n",
       "            <td>1</td>\n",
       "            <td>For Those About To Rock (We Salute You)</td>\n",
       "            <td>1</td>\n",
       "            <td>1</td>\n",
       "            <td>1</td>\n",
       "            <td>Angus Young, Malcolm Young, Brian Johnson</td>\n",
       "            <td>343719</td>\n",
       "            <td>11170334</td>\n",
       "            <td>0.99</td>\n",
       "        </tr>\n",
       "        <tr>\n",
       "            <td>2</td>\n",
       "            <td>Balls to the Wall</td>\n",
       "            <td>2</td>\n",
       "            <td>2</td>\n",
       "            <td>1</td>\n",
       "            <td>None</td>\n",
       "            <td>342562</td>\n",
       "            <td>5510424</td>\n",
       "            <td>0.99</td>\n",
       "        </tr>\n",
       "    </tbody>\n",
       "</table>"
      ],
      "text/plain": [
       "[(1, 'For Those About To Rock (We Salute You)', 1, 1, 1, 'Angus Young, Malcolm Young, Brian Johnson', 343719, 11170334, 0.99),\n",
       " (2, 'Balls to the Wall', 2, 2, 1, None, 342562, 5510424, 0.99)]"
      ]
     },
     "execution_count": 8,
     "metadata": {},
     "output_type": "execute_result"
    }
   ],
   "source": [
    "%%sql\n",
    "SELECT *\n",
    "FROM track\n",
    "LIMIT 2"
   ]
  },
  {
   "cell_type": "markdown",
   "metadata": {},
   "source": [
    "<br> Looking at the tables above we can see that invoice, invoice_line and track contain several columns that which we can use for this analysis. A short description of each of these columns is given in the table below."
   ]
  },
  {
   "cell_type": "markdown",
   "metadata": {},
   "source": [
    "| Table | Column | Description |\n",
    "| --- | --- | --- |\n",
    "| invoice | invoice_id| unique invoice number |\n",
    "| | customer_id | unique customer number |\n",
    "| | invoice_date | transaction date |\n",
    "| | billing_country | country where purchase was made |\n",
    "| | total | invoice total |\n",
    "| invoice_line | track_id | unique track number |\n",
    "| | unit_price | price of track |\n",
    "| | quantity | number of purchases per track |\n",
    "| track | album_id | unique album number |\n",
    "| | genre_id | unique genre number |\n",
    "| genre | name | genre name |\n"
   ]
  },
  {
   "cell_type": "markdown",
   "metadata": {},
   "source": [
    "Next, lets use a JOIN function to combine the columns shown above into a single table and create a permanent view containing sales data  called __sales__. This will save us from having to perform the same table join in seperate queries throughout this workbook."
   ]
  },
  {
   "cell_type": "code",
   "execution_count": 9,
   "metadata": {
    "scrolled": false
   },
   "outputs": [
    {
     "name": "stdout",
     "output_type": "stream",
     "text": [
      " * sqlite:///chinook.db\n",
      "Done.\n"
     ]
    },
    {
     "data": {
      "text/plain": [
       "[]"
      ]
     },
     "execution_count": 9,
     "metadata": {},
     "output_type": "execute_result"
    }
   ],
   "source": [
    "%%sql\n",
    "\n",
    "-- Create view which contains relevant columns from invoice, invoice_line and track tables.\n",
    "\n",
    "CREATE VIEW IF NOT EXISTS sales AS\n",
    "SELECT  i.invoice_id,\n",
    "        i.customer_id,\n",
    "        i.invoice_date,\n",
    "        i.billing_country,\n",
    "        i.total as invoice_total,\n",
    "        il.invoice_line_id,\n",
    "        il.track_id,\n",
    "        al.artist_id,\n",
    "        t.album_id,\n",
    "        t.genre_id,\n",
    "        il.unit_price,\n",
    "        il.quantity\n",
    "FROM invoice as i\n",
    "    JOIN invoice_line as il\n",
    "    ON i.invoice_id = il.invoice_id\n",
    "        JOIN track as t\n",
    "        ON il.track_id = t.track_id\n",
    "            JOIN album as al\n",
    "            ON t.album_id = al.album_id"
   ]
  },
  {
   "cell_type": "markdown",
   "metadata": {},
   "source": [
    "Each row of the sales view corresponds to the purchase of a single track and contains the track details and transaction information e.g. billing date and country."
   ]
  },
  {
   "cell_type": "code",
   "execution_count": 10,
   "metadata": {},
   "outputs": [
    {
     "name": "stdout",
     "output_type": "stream",
     "text": [
      " * sqlite:///chinook.db\n",
      "Done.\n"
     ]
    },
    {
     "data": {
      "text/html": [
       "<table>\n",
       "    <thead>\n",
       "        <tr>\n",
       "            <th>invoice_id</th>\n",
       "            <th>customer_id</th>\n",
       "            <th>invoice_date</th>\n",
       "            <th>billing_country</th>\n",
       "            <th>invoice_total</th>\n",
       "            <th>invoice_line_id</th>\n",
       "            <th>track_id</th>\n",
       "            <th>artist_id</th>\n",
       "            <th>album_id</th>\n",
       "            <th>genre_id</th>\n",
       "            <th>unit_price</th>\n",
       "            <th>quantity</th>\n",
       "        </tr>\n",
       "    </thead>\n",
       "    <tbody>\n",
       "        <tr>\n",
       "            <td>1</td>\n",
       "            <td>18</td>\n",
       "            <td>2017-01-03 00:00:00</td>\n",
       "            <td>USA</td>\n",
       "            <td>15.84</td>\n",
       "            <td>1</td>\n",
       "            <td>1158</td>\n",
       "            <td>88</td>\n",
       "            <td>91</td>\n",
       "            <td>1</td>\n",
       "            <td>0.99</td>\n",
       "            <td>1</td>\n",
       "        </tr>\n",
       "    </tbody>\n",
       "</table>"
      ],
      "text/plain": [
       "[(1, 18, '2017-01-03 00:00:00', 'USA', 15.84, 1, 1158, 88, 91, 1, 0.99, 1)]"
      ]
     },
     "execution_count": 10,
     "metadata": {},
     "output_type": "execute_result"
    }
   ],
   "source": [
    "%%sql \n",
    "\n",
    "SELECT *\n",
    "FROM sales\n",
    "LIMIT 1"
   ]
  },
  {
   "cell_type": "markdown",
   "metadata": {},
   "source": [
    "\n",
    "## Missing Data and Duplicates\n",
    "\n",
    "Before performing an analysis it is crucial to determine if there is any erroneous data that may impact our findings. Lets check the data for missing data and duplicates."
   ]
  },
  {
   "cell_type": "code",
   "execution_count": 11,
   "metadata": {
    "scrolled": true
   },
   "outputs": [
    {
     "name": "stdout",
     "output_type": "stream",
     "text": [
      "Rows: 4757\n"
     ]
    }
   ],
   "source": [
    "#Open sales as dataframe. \n",
    "\n",
    "query = ''' SELECT *\n",
    "            FROM sales'''\n",
    "\n",
    "df = pd.read_sql(query, con)\n",
    "\n",
    "rows, columns = df.shape\n",
    "print('Rows:',rows)"
   ]
  },
  {
   "cell_type": "markdown",
   "metadata": {},
   "source": [
    "* The sales dataset contains __4757__ rows"
   ]
  },
  {
   "cell_type": "code",
   "execution_count": 12,
   "metadata": {},
   "outputs": [
    {
     "name": "stdout",
     "output_type": "stream",
     "text": [
      "<class 'pandas.core.frame.DataFrame'>\n",
      "RangeIndex: 4757 entries, 0 to 4756\n",
      "Data columns (total 12 columns):\n",
      " #   Column           Non-Null Count  Dtype  \n",
      "---  ------           --------------  -----  \n",
      " 0   invoice_id       4757 non-null   int64  \n",
      " 1   customer_id      4757 non-null   int64  \n",
      " 2   invoice_date     4757 non-null   object \n",
      " 3   billing_country  4757 non-null   object \n",
      " 4   invoice_total    4757 non-null   float64\n",
      " 5   invoice_line_id  4757 non-null   int64  \n",
      " 6   track_id         4757 non-null   int64  \n",
      " 7   artist_id        4757 non-null   int64  \n",
      " 8   album_id         4757 non-null   int64  \n",
      " 9   genre_id         4757 non-null   int64  \n",
      " 10  unit_price       4757 non-null   float64\n",
      " 11  quantity         4757 non-null   int64  \n",
      "dtypes: float64(2), int64(8), object(2)\n",
      "memory usage: 446.1+ KB\n"
     ]
    }
   ],
   "source": [
    "# Use df.info() and df.describe() to check for missing data.\n",
    "\n",
    "df.info()"
   ]
  },
  {
   "cell_type": "markdown",
   "metadata": {},
   "source": [
    "* We can see that all columns contains __4757__ non-null rows."
   ]
  },
  {
   "cell_type": "code",
   "execution_count": 13,
   "metadata": {
    "scrolled": false
   },
   "outputs": [
    {
     "name": "stdout",
     "output_type": "stream",
     "text": [
      "Empty DataFrame\n",
      "Columns: [invoice_id, customer_id, invoice_date, billing_country, invoice_total, invoice_line_id, track_id, artist_id, album_id, genre_id, unit_price, quantity]\n",
      "Index: []\n"
     ]
    }
   ],
   "source": [
    "# Check for duplicate rows\n",
    "\n",
    "duplicate_rows = df[df.duplicated()]\n",
    "print(duplicate_rows)"
   ]
  },
  {
   "cell_type": "markdown",
   "metadata": {},
   "source": [
    "* We returned an empty dataframe meaning there are __no duplicate__ rows. "
   ]
  },
  {
   "cell_type": "markdown",
   "metadata": {},
   "source": [
    "\n",
    "Great, the dataset is clean and we are ready to move onto our data analysis."
   ]
  },
  {
   "cell_type": "markdown",
   "metadata": {},
   "source": [
    "## Best Selling Music"
   ]
  },
  {
   "cell_type": "markdown",
   "metadata": {},
   "source": [
    "### <font color='grey'>Date Range</font> \n",
    "\n",
    "The invoice_date column contains the transaction date. Since this stored as an object datatype we can use date functions to return a date datatype."
   ]
  },
  {
   "cell_type": "code",
   "execution_count": 14,
   "metadata": {},
   "outputs": [
    {
     "name": "stdout",
     "output_type": "stream",
     "text": [
      " * sqlite:///chinook.db\n",
      "Done.\n"
     ]
    },
    {
     "data": {
      "text/html": [
       "<table>\n",
       "    <thead>\n",
       "        <tr>\n",
       "            <th>first_order</th>\n",
       "            <th>last_order</th>\n",
       "        </tr>\n",
       "    </thead>\n",
       "    <tbody>\n",
       "        <tr>\n",
       "            <td>2017-01-03</td>\n",
       "            <td>2020-12-30</td>\n",
       "        </tr>\n",
       "    </tbody>\n",
       "</table>"
      ],
      "text/plain": [
       "[('2017-01-03', '2020-12-30')]"
      ]
     },
     "execution_count": 14,
     "metadata": {},
     "output_type": "execute_result"
    }
   ],
   "source": [
    "%%sql\n",
    "\n",
    "SELECT  MIN(DATE(invoice_date)) as first_order,\n",
    "        MAX(DATE(invoice_date)) as last_order\n",
    "FROM invoice"
   ]
  },
  {
   "cell_type": "markdown",
   "metadata": {},
   "source": [
    "* The database contains data between __2017 - 2020__. "
   ]
  },
  {
   "cell_type": "markdown",
   "metadata": {},
   "source": [
    "### <font color='grey'>Total Sales Globally</font> \n",
    "\n",
    "We use STRFTIME to extract the year from an object datatype. When combined with an aggregate function we can calculate the total sales per year."
   ]
  },
  {
   "cell_type": "code",
   "execution_count": 15,
   "metadata": {},
   "outputs": [],
   "source": [
    "#SQL query\n",
    "query = '''\n",
    "SELECT  STRFTIME('%Y', invoice_date) as year,\n",
    "        ROUND(SUM(unit_price),2) as sum_sales \n",
    "FROM sales\n",
    "GROUP BY 1'''"
   ]
  },
  {
   "cell_type": "code",
   "execution_count": 16,
   "metadata": {},
   "outputs": [
    {
     "data": {
      "image/png": "[encoded data removed]",
      "text/plain": [
       "<Figure size 400x400 with 1 Axes>"
      ]
     },
     "metadata": {},
     "output_type": "display_data"
    }
   ],
   "source": [
    "#Read query into pandas dataframe\n",
    "df = pd.read_sql(query, con)\n",
    "\n",
    "#Create plot\n",
    "fig, ax = plt.subplots(figsize=(4, 4))\n",
    "ax.bar(x= df['year'], height= df['sum_sales'], color='blue', alpha=0.5)\n",
    "\n",
    "#Format plot\n",
    "ax.set(ylim=(0,1400), ylabel='Total Sales')\n",
    "for location in ['left', 'right', 'bottom', 'top']:\n",
    "    ax.spines[location].set_visible(False)\n",
    "ax.yaxis.label.set_color('grey')\n",
    "ax.tick_params(colors='grey', axis= 'y')\n",
    "ax.xaxis.tick_top()\n",
    "ax.tick_params(top= False, left= False)\n",
    "plt.title('Global sales at the Chinook Record Store\\n have not increased since 2017', pad= 30, fontsize= 10)\n",
    "plt.show()"
   ]
  },
  {
   "cell_type": "markdown",
   "metadata": {},
   "source": [
    "_Chart showing total sales globally between 2017-2020._"
   ]
  },
  {
   "cell_type": "markdown",
   "metadata": {},
   "source": [
    "### <font color='grey'>Total Sales by Country</font> "
   ]
  },
  {
   "cell_type": "markdown",
   "metadata": {},
   "source": [
    "We can use WITH to store the result of an aggregation into a common table expressions (CTEs) which we can reference in another query. Here we will use this to calculate the percentage of total sales per country."
   ]
  },
  {
   "cell_type": "code",
   "execution_count": 17,
   "metadata": {},
   "outputs": [],
   "source": [
    "#SQL query\n",
    "query = '''\n",
    "WITH global_total AS (\n",
    "SELECT  SUM(unit_price) as global_sales\n",
    "FROM sales\n",
    ")\n",
    "\n",
    "SELECT  billing_country as country,\n",
    "        ROUND(SUM(unit_price),2) as sum_sales,\n",
    "        ROUND(100.0 * SUM(unit_price) / (SELECT global_sales\n",
    "                                        FROM global_total),1) as percent_sales\n",
    "FROM sales\n",
    "GROUP BY 1\n",
    "ORDER BY sum_sales ASC\n",
    "'''"
   ]
  },
  {
   "cell_type": "code",
   "execution_count": 18,
   "metadata": {},
   "outputs": [
    {
     "data": {
      "image/png": "[encoded data removed]",
      "text/plain": [
       "<Figure size 400x500 with 1 Axes>"
      ]
     },
     "metadata": {},
     "output_type": "display_data"
    },
    {
     "name": "stdout",
     "output_type": "stream",
     "text": [
      "Total countries = 24\n"
     ]
    }
   ],
   "source": [
    "#Read query into pandas dataframe\n",
    "df = pd.read_sql(query, con)\n",
    "\n",
    "#Create plot\n",
    "fig, ax = plt.subplots(figsize=(4,5))\n",
    "max_sales = df['percent_sales'].max()\n",
    "top_country_bol = df['percent_sales'] == max_sales\n",
    "color_map = top_country_bol.map({True:'#0000FF', False:'grey'})\n",
    "ax.barh(y = df['country'], width = df['percent_sales'], height= 0.75, color=color_map, alpha= 0.5)\n",
    "\n",
    "#Format plot\n",
    "ax.set(xlabel= 'Total Sales (%)')\n",
    "for location in ['left', 'right', 'bottom', 'top']:\n",
    "    ax.spines[location].set_visible(False)\n",
    "ax.xaxis.label.set_color('grey')\n",
    "ax.tick_params(colors='grey', axis= 'x')\n",
    "ax.tick_params(labelsize = 9, axis= 'y' )\n",
    "ax.tick_params(bottom= False, left= False)\n",
    "plt.title('The music store has made\\n the most revenue in the USA', fontsize= 10)\n",
    "plt.show()\n",
    "\n",
    "#Calculate total countries\n",
    "print('Total countries =', len(df))"
   ]
  },
  {
   "cell_type": "markdown",
   "metadata": {},
   "source": [
    "Top: _Chart showing total sales (%) by country between 2017-2020._\n",
    "<br/> Bottom: _Total number of countries that the music store sells to._\n",
    "\n",
    "* The music store sells to __24__ countries of which the most revenue has been made in the __USA__."
   ]
  },
  {
   "cell_type": "markdown",
   "metadata": {},
   "source": [
    "### <font color='grey'>Total Customer by Country</font> \n",
    "\n",
    "Total sales is likely to correlate with the number of customers for each country. Lets investigate this next.\n",
    "\n",
    "We can use DISTINCT with an aggregate function to calculate the number of customers per country."
   ]
  },
  {
   "cell_type": "code",
   "execution_count": 19,
   "metadata": {},
   "outputs": [],
   "source": [
    "#SQL query\n",
    "query = '''\n",
    "SELECT  billing_country as country,\n",
    "        COUNT(DISTINCT customer_id) as count_customers\n",
    "FROM sales\n",
    "GROUP BY 1\n",
    "ORDER BY 2 ASC'''"
   ]
  },
  {
   "cell_type": "code",
   "execution_count": 20,
   "metadata": {},
   "outputs": [
    {
     "data": {
      "image/png": "[encoded data removed]",
      "text/plain": [
       "<Figure size 400x500 with 1 Axes>"
      ]
     },
     "metadata": {},
     "output_type": "display_data"
    }
   ],
   "source": [
    "#Read query into pandas dataframe\n",
    "df = pd.read_sql(query, con)\n",
    "\n",
    "#Create plot\n",
    "fig, ax = plt.subplots(figsize=(4,5))\n",
    "max_customers = df['count_customers'].max()\n",
    "top_country_bol = df['count_customers'] == max_customers\n",
    "color_map = top_country_bol.map({True:'#0000FF', False:'grey'})\n",
    "ax.barh(y = df['country'], width = df['count_customers'], height= 0.75, color=color_map, alpha= 0.5)\n",
    "\n",
    "#Format plot\n",
    "ax.set(xlabel= 'Total Customers')\n",
    "for location in ['left', 'right', 'bottom', 'top']:\n",
    "    ax.spines[location].set_visible(False)\n",
    "ax.xaxis.label.set_color('grey')\n",
    "ax.tick_params(colors='grey', axis= 'x')\n",
    "ax.tick_params(labelsize = 9, axis= 'y' )\n",
    "ax.tick_params(bottom= False, left= False)\n",
    "plt.title('The music store has the most\\n number of customers in the USA', fontsize= 10)\n",
    "plt.show()"
   ]
  },
  {
   "cell_type": "markdown",
   "metadata": {},
   "source": [
    "_Chart showing total number of customers by country between 2017-2020._"
   ]
  },
  {
   "cell_type": "markdown",
   "metadata": {},
   "source": [
    "* The music store has the most customers in the __USA__."
   ]
  },
  {
   "cell_type": "markdown",
   "metadata": {},
   "source": [
    "### <font color='grey'>Top Genres: USA</font> \n",
    " \n",
    "As the music store is performing well in the USA, lets look at the best selling music categories amongst this customer group.\n",
    "\n",
    "As we are only interested in sales to the USA we can use WHERE to filter out rows that do not meet the this condition."
   ]
  },
  {
   "cell_type": "code",
   "execution_count": 29,
   "metadata": {},
   "outputs": [],
   "source": [
    "query = '''WITH total_tracks_sold AS (\n",
    "SELECT SUM(quantity)\n",
    "FROM sales\n",
    "WHERE billing_country = 'USA'\n",
    ")\n",
    "\n",
    "SELECT  t2.name as genre,\n",
    "        SUM(quantity) as total_sold,\n",
    "        ROUND(100.0 * SUM(quantity) / (\n",
    "                                        SELECT *\n",
    "                                        FROM total_tracks_sold\n",
    "                                        ),1) as percentage_sold\n",
    "FROM sales as t1\n",
    "JOIN genre AS t2\n",
    "ON t1.genre_id = t2.genre_id\n",
    "WHERE billing_country = 'USA'\n",
    "GROUP BY 1\n",
    "'''"
   ]
  },
  {
   "cell_type": "code",
   "execution_count": 30,
   "metadata": {},
   "outputs": [
    {
     "data": {
      "image/png": "[encoded data removed]",
      "text/plain": [
       "<Figure size 400x400 with 1 Axes>"
      ]
     },
     "metadata": {},
     "output_type": "display_data"
    }
   ],
   "source": [
    "#Read query into pandas dataframe\n",
    "df = pd.read_sql(query, con)\n",
    "\n",
    "#Sort df\n",
    "df = df.sort_values('percentage_sold')\n",
    "\n",
    "#Create plot\n",
    "fig, ax = plt.subplots(figsize=(4,4))\n",
    "max_sales = df['percentage_sold'].max()\n",
    "top_country_bol = df['percentage_sold'] == max_sales\n",
    "color_map = top_country_bol.map({True:'#0000FF', False:'grey'})\n",
    "ax.barh(y = df['genre'], width = df['percentage_sold'], height= 0.75, color=color_map, alpha= 0.5)\n",
    "\n",
    "#Format plot\n",
    "ax.set(xlabel= 'Tracks Sold (%)')\n",
    "for location in ['left', 'right', 'bottom', 'top']:\n",
    "    ax.spines[location].set_visible(False)\n",
    "ax.xaxis.label.set_color('grey')\n",
    "ax.tick_params(colors='grey', axis= 'x')\n",
    "ax.tick_params(labelsize = 9, axis= 'y' )\n",
    "ax.tick_params(bottom= False, left= False)\n",
    "plt.title('The most popular genre in the USA is Rock\\n with over 50% of all music sold', fontsize= 10)\n",
    "plt.show()"
   ]
  },
  {
   "cell_type": "markdown",
   "metadata": {},
   "source": [
    "_Chart showing the Top 10 Genres in the USA between 2017-2020._"
   ]
  },
  {
   "cell_type": "markdown",
   "metadata": {},
   "source": [
    "* The most popular genre in the USA is __Rock__."
   ]
  },
  {
   "cell_type": "markdown",
   "metadata": {},
   "source": [
    "## Countries with Growth Opportunity.\n",
    "\n",
    "So far we have looked for the top country for sales and made some insights into the music preferences of this customer group.\n",
    "\n",
    "The music store is looking to boost sales in in other countries and plans to launch a marketing campaign in a select number of countries. \n",
    "\n",
    "To provide a recommendation lets calculate the following sales metrics:\n",
    "* __Average sales per customer__\n",
    "* __Average sales per order__\n",
    "\n",
    "Here we will employ CASE. Since a number of countries only have one customer lets group these countries into 'Other' and put them to the bottom of the visualisations.\n",
    "\n",
    "### <font color='grey'>Sales Per Customer</font> "
   ]
  },
  {
   "cell_type": "code",
   "execution_count": 23,
   "metadata": {},
   "outputs": [],
   "source": [
    "query = '''\n",
    "WITH group_countries_by_customers AS (\n",
    "SELECT  country,\n",
    "        COUNT(customer_id) as count_customers\n",
    "FROM customer\n",
    "GROUP BY country\n",
    "),\n",
    "\n",
    "country_or_other AS (\n",
    "SELECT  country, \n",
    "        CASE \n",
    "            WHEN count_customers = 1 THEN 'Other'\n",
    "            ELSE country\n",
    "        END AS country_group\n",
    "FROM group_countries_by_customers\n",
    "),\n",
    "\n",
    "modified_invoice AS (\n",
    "SELECT  i.customer_id, \n",
    "        i.invoice_id, \n",
    "        i.total,\n",
    "        co.country_group, \n",
    "        CASE\n",
    "            WHEN co.country_group = 'Other' THEN 1\n",
    "        END AS sort\n",
    "FROM invoice as i\n",
    "    JOIN country_or_other as co\n",
    "    ON co.country = i.billing_country\n",
    ")\n",
    "\n",
    "SELECT  country_group,\n",
    "        ROUND(SUM(total) / COUNT(DISTINCT customer_id),2) as avg_sales_per_customer,\n",
    "        ROUND(AVG(total),2) as avg_order_value\n",
    "FROM modified_invoice\n",
    "GROUP BY 1;'''"
   ]
  },
  {
   "cell_type": "code",
   "execution_count": 24,
   "metadata": {
    "scrolled": false
   },
   "outputs": [
    {
     "data": {
      "image/png": "[encoded data removed]",
      "text/plain": [
       "<Figure size 400x400 with 1 Axes>"
      ]
     },
     "metadata": {},
     "output_type": "display_data"
    }
   ],
   "source": [
    "#Read query into pandas dataframe\n",
    "df = pd.read_sql(query, con)\n",
    "\n",
    "#Calculate global average\n",
    "global_average = df['avg_sales_per_customer'].mean()\n",
    "\n",
    "#Sort by avg sales per customer\n",
    "df = df.sort_values('avg_sales_per_customer')\n",
    "\n",
    "#Create plots\n",
    "fig, ax = plt.subplots(figsize=(4,4))\n",
    "avg_sales = df['avg_sales_per_customer'].mean()\n",
    "top_country_bol = df['avg_sales_per_customer'] > avg_sales\n",
    "color_map = top_country_bol.map({True:'#0000FF', False:'grey'})\n",
    "ax.barh(y= df['country_group'], width= df['avg_sales_per_customer'], height= 0.75, color=color_map, alpha= 0.5)\n",
    "\n",
    "#Format plots\n",
    "ax.set(xlabel= 'Average Sales Per Customer')\n",
    "for location in ['left', 'right', 'bottom', 'top']:\n",
    "    ax.spines[location].set_visible(False)\n",
    "ax.xaxis.label.set_color('grey')\n",
    "ax.tick_params(colors='grey', axis= 'x')\n",
    "ax.tick_params(labelsize = 9, axis= 'y' )\n",
    "ax.tick_params(bottom= False, left= False)\n",
    "ax.axvline(x= global_average, ymin= 0.05, ymax= 0.95, alpha = 0.2, color = 'grey', linestyle = '--')\n",
    "plt.text(s= 'Global Average', x= 90, y= 5, fontsize = 9, color = 'grey')\n",
    "plt.title('Czech Republic has the highest average sales per customer.', fontsize = 10)\n",
    "\n",
    "plt.show()"
   ]
  },
  {
   "cell_type": "markdown",
   "metadata": {},
   "source": [
    "_Chart showing average sales per customer by country between 2017-2020. Countries above the global average have been highlighted._"
   ]
  },
  {
   "cell_type": "markdown",
   "metadata": {},
   "source": [
    "* The __Czech Republic__ has the highest average sales per customer. Portugal and India also exceed the global average."
   ]
  },
  {
   "cell_type": "markdown",
   "metadata": {},
   "source": [
    "### <font color='grey'>Sales Per Order</font> "
   ]
  },
  {
   "cell_type": "code",
   "execution_count": 25,
   "metadata": {
    "scrolled": false
   },
   "outputs": [
    {
     "data": {
      "image/png": "[encoded data removed]",
      "text/plain": [
       "<Figure size 400x400 with 1 Axes>"
      ]
     },
     "metadata": {},
     "output_type": "display_data"
    }
   ],
   "source": [
    "#Sort by avg sales per customer\n",
    "df = df.sort_values('avg_order_value')\n",
    "\n",
    "#Calculate global average\n",
    "global_average = df['avg_order_value'].mean()\n",
    "\n",
    "#Create plots\n",
    "fig, ax = plt.subplots(figsize=(4,4))\n",
    "avg_order = df['avg_order_value'].mean()\n",
    "top_country_bol = df['avg_order_value'] > avg_order\n",
    "color_map = top_country_bol.map({True:'#0000FF', False:'grey'})\n",
    "ax.barh(y= df['country_group'], width= df['avg_order_value'], height= 0.75, color=color_map, alpha= 0.5)\n",
    "\n",
    "#Format plots\n",
    "ax.set(xlabel= 'Average Sales Per Order', xlim = (0,10))\n",
    "for location in ['left', 'right', 'bottom', 'top']:\n",
    "    ax.spines[location].set_visible(False)\n",
    "ax.xaxis.label.set_color('grey')\n",
    "ax.tick_params(colors='grey', axis= 'x')\n",
    "ax.tick_params(labelsize = 9, axis= 'y' )\n",
    "ax.tick_params(bottom= False, left= False)\n",
    "ax.axvline(x= global_average, ymin= 0.05, ymax= 0.95, alpha = 0.2, color = 'grey', linestyle = '--')\n",
    "plt.text(s= 'Global Average', x= 8.25, y= 4, fontsize = 9, color = 'grey')\n",
    "plt.title('Czech Republic has the highest average sales per order.', fontsize = 10)\n",
    "plt.show()"
   ]
  },
  {
   "cell_type": "markdown",
   "metadata": {},
   "source": [
    "_Chart showing average sales per order by country between 2017-2020. Countries above the global average have been highlighted._\n",
    "\n",
    "* The __Czech Republic__ has the highest average sales per order. The United Kingdom, India, Germany and the USA also exceed the global average."
   ]
  },
  {
   "cell_type": "markdown",
   "metadata": {},
   "source": [
    "### <font color='grey'>Sales Growth: Selected Countries</font> \n",
    "\n",
    "We've identified that customer spending is above average in Czech Republic, United Kingdom, India, Germany, USA.\n",
    "\n",
    "Next lets look at the sales growth trends between 2017-2020 by calculating the percentage change in sales per order for each year.\n",
    "\n",
    "To do this we can use windows functions to access data from the row previous to the current row."
   ]
  },
  {
   "cell_type": "code",
   "execution_count": 27,
   "metadata": {},
   "outputs": [],
   "source": [
    "query = '''\n",
    "WITH group_by AS (\n",
    "SELECT  billing_country as country,\n",
    "        STRFTIME('%Y', invoice_date) as year,\n",
    "        ROUND(SUM(total),2) as sales,    \n",
    "        COUNT(invoice_id) as orders,\n",
    "        ROUND((SUM(total)/COUNT(invoice_id)),2) as sales_per_order\n",
    "FROM invoice\n",
    "GROUP BY 1, 2\n",
    "),\n",
    "\n",
    "lag AS (\n",
    "SELECT *,\n",
    "        LAG(sales_per_order) OVER (\n",
    "                             PARTITION BY country\n",
    "                             ORDER BY year) as previous_sales_per_order\n",
    "FROM group_by\n",
    "),\n",
    "\n",
    "change_in as (\n",
    "SELECT country,\n",
    "        year,\n",
    "        100.0* (sales_per_order - previous_sales_per_order)/previous_sales_per_order as change_in_sales_per_order\n",
    "FROM lag\n",
    "WHERE year IS NOT '2017'\n",
    ")\n",
    "\n",
    "SELECT *\n",
    "FROM change_in\n",
    "WHERE country = 'Czech Republic' OR country = 'United Kingdom' OR country = 'India' OR country = 'Germany' OR country = 'USA'\n",
    "'''"
   ]
  },
  {
   "cell_type": "code",
   "execution_count": 28,
   "metadata": {},
   "outputs": [
    {
     "data": {
      "image/png": "[encoded data removed]",
      "text/plain": [
       "<Figure size 640x480 with 1 Axes>"
      ]
     },
     "metadata": {},
     "output_type": "display_data"
    }
   ],
   "source": [
    "#Read query into pandas dataframe\n",
    "df = pd.read_sql(query, con)\n",
    "\n",
    "#Create pivot table \n",
    "pt = pd.pivot_table(data = df, values = 'change_in_sales_per_order', index = 'year', columns= 'country')\n",
    "\n",
    "#Create plots\n",
    "ax = pt.T.plot(kind='bar', xlabel = '', ylabel = 'Change in sales per order (%)', ylim = (-40,40))\n",
    "\n",
    "#Format plots\n",
    "\n",
    "for location in ['left', 'right', 'bottom', 'top']:\n",
    "    ax.spines[location].set_visible(False)\n",
    "ax.xaxis.label.set_color('grey')\n",
    "ax.tick_params(colors='grey', axis= 'y')\n",
    "ax.tick_params(bottom= False, left= False)\n",
    "ax.yaxis.label.set_color('grey')\n",
    "plt.title('Czech Republic and Germany had positive sales growth in 2020.', fontsize = 10)\n",
    "ax.axhline(y=0, linewidth = 0.5, color = 'grey', linestyle = '--')\n",
    "plt.legend(frameon=False)\n",
    "plt.show()"
   ]
  },
  {
   "cell_type": "markdown",
   "metadata": {},
   "source": [
    "*Chart showing percentage change in sales per order over time for selected countries.*\n",
    "\n",
    "* Sales increased in the __Czech Republic__ and __Germany__ in 2020. Sales decreased in the USA, India and the United Kingdom."
   ]
  },
  {
   "cell_type": "markdown",
   "metadata": {},
   "source": [
    "## Conclusions\n",
    "\n",
    "It was found that:\n",
    "\n",
    "Between 2017 - 2020\n",
    "* Globally, there has been little to no sales growth since 2017.\n",
    "* The music store sells to customers in 24 countries.\n",
    "* The __USA__ has generated the most revenue and also has the highest number of customers.\n",
    "* In the USA the most popular music genre is __Rock__.\n",
    "\n",
    "* The __Czech Republic__ had the highest average sales per customer. Portugal and India also exceed the global average.\n",
    "* The __Czech Republic__ had the highest average sales per order. The United Kingdom, India, Germany and the USA also exceed the global average.\n",
    "\n",
    "In 2020\n",
    "* Sales in 2020 increased in the __Czech Republic__ and __Germany__ but decreased in the USA, India and the United Kingdom."
   ]
  },
  {
   "cell_type": "markdown",
   "metadata": {},
   "source": [
    "## Recommendations\n",
    "\n",
    "__1st__\n",
    "\n",
    "An analysis of top genres in the USA found Rock music to be the best-selling genre. As the USA is the top country for sales at the music store adding more music from this category is likely to be popular amongst these customers.\n",
    "\n",
    "__2nd__\n",
    "\n",
    "An analysis of customer spending between 2017-2020 revealed that the Czech Republic and Germany are above average for average sales per order. Furthermore, sales in 2020 increased significantly from the previous year. Therefore, these countries should be considered for the marketing campaigns in high sales growth countries. However, due to low sample size involved in this analysis we recommend surveying additional customers and collecting more data before launching the marketing campaign.\n",
    "\n",
    "__3rd__\n",
    "\n",
    "An analysis of customer spending between 2017-2020 revealed that the United Kingdom, India and USA were also above average for average sales per order. However, it was found that sales in 2020 decreased compared to the previous year. Thus, we recommend these customers are also surveyed to highlight and remedy any issues related to customer experience before marketing to these countries."
   ]
  }
 ],
 "metadata": {
  "kernelspec": {
   "display_name": "Python 3 (ipykernel)",
   "language": "python",
   "name": "python3"
  },
  "language_info": {
   "codemirror_mode": {
    "name": "ipython",
    "version": 3
   },
   "file_extension": ".py",
   "mimetype": "text/x-python",
   "name": "python",
   "nbconvert_exporter": "python",
   "pygments_lexer": "ipython3",
   "version": "3.11.3"
  }
 },
 "nbformat": 4,
 "nbformat_minor": 2
}
